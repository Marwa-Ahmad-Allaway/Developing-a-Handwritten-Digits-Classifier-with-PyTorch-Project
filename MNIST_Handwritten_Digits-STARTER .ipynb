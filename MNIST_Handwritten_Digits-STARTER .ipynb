{
 "cells": [
  {
   "cell_type": "markdown",
   "metadata": {},
   "source": [
    "# Introduction\n",
    "\n",
    "In this project, you will build a neural network of your own design to evaluate the MNIST dataset.\n",
    "\n",
    "Some of the benchmark results on MNIST include can be found [on Yann LeCun's page](https://webcache.googleusercontent.com/search?q=cache:stAVPik6onEJ:yann.lecun.com/exdb/mnist) and include:\n",
    "\n",
    "88% [Lecun et al., 1998](https://hal.science/hal-03926082/document)\n",
    "\n",
    "95.3% [Lecun et al., 1998](https://hal.science/hal-03926082v1/document)\n",
    "\n",
    "99.65% [Ciresan et al., 2011](http://people.idsia.ch/~juergen/ijcai2011.pdf)\n",
    "\n",
    "\n",
    "MNIST is a great dataset for sanity checking your models, since the accuracy levels achieved by large convolutional neural networks and small linear models are both quite high. This makes it important to be familiar with the data.\n",
    "\n",
    "## Installation"
   ]
  },
  {
   "cell_type": "code",
   "execution_count": 1,
   "metadata": {},
   "outputs": [
    {
     "name": "stdout",
     "output_type": "stream",
     "text": [
      "Defaulting to user installation because normal site-packages is not writeable\n",
      "Collecting ipywidgets==8.1.5\n",
      "  Downloading ipywidgets-8.1.5-py3-none-any.whl (139 kB)\n",
      "\u001b[K     |████████████████████████████████| 139 kB 3.0 MB/s eta 0:00:01\n",
      "\u001b[?25hRequirement already satisfied: traitlets>=4.3.1 in /opt/conda/lib/python3.7/site-packages (from ipywidgets==8.1.5->-r requirements.txt (line 1)) (4.3.3)\n",
      "Collecting widgetsnbextension~=4.0.12\n",
      "  Downloading widgetsnbextension-4.0.14-py3-none-any.whl (2.2 MB)\n",
      "\u001b[K     |████████████████████████████████| 2.2 MB 31.1 MB/s eta 0:00:01\n",
      "\u001b[?25hRequirement already satisfied: ipython>=6.1.0 in /opt/conda/lib/python3.7/site-packages (from ipywidgets==8.1.5->-r requirements.txt (line 1)) (7.13.0)\n",
      "Collecting comm>=0.1.3\n",
      "  Downloading comm-0.1.4-py3-none-any.whl (6.6 kB)\n",
      "Collecting jupyterlab-widgets~=3.0.12\n",
      "  Downloading jupyterlab_widgets-3.0.15-py3-none-any.whl (216 kB)\n",
      "\u001b[K     |████████████████████████████████| 216 kB 83.8 MB/s eta 0:00:01\n",
      "\u001b[?25hRequirement already satisfied: decorator in /opt/conda/lib/python3.7/site-packages (from traitlets>=4.3.1->ipywidgets==8.1.5->-r requirements.txt (line 1)) (4.4.2)\n",
      "Requirement already satisfied: six in /opt/conda/lib/python3.7/site-packages (from traitlets>=4.3.1->ipywidgets==8.1.5->-r requirements.txt (line 1)) (1.16.0)\n",
      "Requirement already satisfied: ipython-genutils in /opt/conda/lib/python3.7/site-packages (from traitlets>=4.3.1->ipywidgets==8.1.5->-r requirements.txt (line 1)) (0.2.0)\n",
      "Requirement already satisfied: backcall in /opt/conda/lib/python3.7/site-packages (from ipython>=6.1.0->ipywidgets==8.1.5->-r requirements.txt (line 1)) (0.1.0)\n",
      "Requirement already satisfied: pygments in /opt/conda/lib/python3.7/site-packages (from ipython>=6.1.0->ipywidgets==8.1.5->-r requirements.txt (line 1)) (2.5.2)\n",
      "Requirement already satisfied: pexpect; sys_platform != \"win32\" in /opt/conda/lib/python3.7/site-packages (from ipython>=6.1.0->ipywidgets==8.1.5->-r requirements.txt (line 1)) (4.8.0)\n",
      "Requirement already satisfied: setuptools>=18.5 in /opt/conda/lib/python3.7/site-packages (from ipython>=6.1.0->ipywidgets==8.1.5->-r requirements.txt (line 1)) (45.2.0.post20200209)\n",
      "Requirement already satisfied: pickleshare in /opt/conda/lib/python3.7/site-packages (from ipython>=6.1.0->ipywidgets==8.1.5->-r requirements.txt (line 1)) (0.7.5)\n",
      "Requirement already satisfied: prompt-toolkit!=3.0.0,!=3.0.1,<3.1.0,>=2.0.0 in /opt/conda/lib/python3.7/site-packages (from ipython>=6.1.0->ipywidgets==8.1.5->-r requirements.txt (line 1)) (3.0.3)\n",
      "Requirement already satisfied: jedi>=0.10 in /opt/conda/lib/python3.7/site-packages (from ipython>=6.1.0->ipywidgets==8.1.5->-r requirements.txt (line 1)) (0.16.0)\n",
      "Requirement already satisfied: ptyprocess>=0.5 in /opt/conda/lib/python3.7/site-packages (from pexpect; sys_platform != \"win32\"->ipython>=6.1.0->ipywidgets==8.1.5->-r requirements.txt (line 1)) (0.6.0)\n",
      "Requirement already satisfied: wcwidth in /opt/conda/lib/python3.7/site-packages (from prompt-toolkit!=3.0.0,!=3.0.1,<3.1.0,>=2.0.0->ipython>=6.1.0->ipywidgets==8.1.5->-r requirements.txt (line 1)) (0.1.8)\n",
      "Requirement already satisfied: parso>=0.5.2 in /opt/conda/lib/python3.7/site-packages (from jedi>=0.10->ipython>=6.1.0->ipywidgets==8.1.5->-r requirements.txt (line 1)) (0.6.1)\n",
      "Installing collected packages: widgetsnbextension, comm, jupyterlab-widgets, ipywidgets\n",
      "Successfully installed comm-0.1.4 ipywidgets-8.1.5 jupyterlab-widgets-3.0.15 widgetsnbextension-4.0.14\n"
     ]
    }
   ],
   "source": [
    "# Restart the Kernel after you execute this command.\n",
    "\n",
    "!python -m pip install -r requirements.txt"
   ]
  },
  {
   "cell_type": "markdown",
   "metadata": {},
   "source": [
    "**Important: Restart the Kernel at this moment**"
   ]
  },
  {
   "cell_type": "markdown",
   "metadata": {},
   "source": [
    "## Imports"
   ]
  },
  {
   "cell_type": "code",
   "execution_count": 1,
   "metadata": {},
   "outputs": [],
   "source": [
    "## This cell contains the essential imports you will need – DO NOT CHANGE THE CONTENTS! ##\n",
    "import torch\n",
    "import torch.nn as nn\n",
    "import torch.nn.functional as F\n",
    "import torch.optim as optim\n",
    "import torchvision\n",
    "import torchvision.transforms as transforms\n",
    "import matplotlib.pyplot as plt\n",
    "import numpy as np"
   ]
  },
  {
   "cell_type": "markdown",
   "metadata": {},
   "source": [
    "## Load the Dataset\n",
    "\n",
    "Specify your transforms as a list if you intend to .\n",
    "The transforms module is already loaded as `transforms`.\n",
    "\n",
    "MNIST is fortunately included in the torchvision module.\n",
    "Then, you can create your dataset using the `MNIST` object from `torchvision.datasets` ([the documentation is available here](https://pytorch.org/vision/stable/datasets.html#mnist)).\n",
    "Make sure to specify `download=True`! \n",
    "\n",
    "Once your dataset is created, you'll also need to define a `DataLoader` from the `torch.utils.data` module for both the train and the test set."
   ]
  },
  {
   "cell_type": "code",
   "execution_count": 2,
   "metadata": {},
   "outputs": [
    {
     "name": "stderr",
     "output_type": "stream",
     "text": [
      "/opt/conda/lib/python3.7/site-packages/torchvision/datasets/mnist.py:498: UserWarning: The given NumPy array is not writable, and PyTorch does not support non-writable tensors. This means writing to this tensor will result in undefined behavior. You may want to copy the array to protect its data or make it writable before converting it to a tensor. This type of warning will be suppressed for the rest of this program. (Triggered internally at  ../torch/csrc/utils/tensor_numpy.cpp:178.)\n",
      "  return torch.from_numpy(parsed.astype(m[2], copy=False)).view(*s)\n"
     ]
    }
   ],
   "source": [
    "# Define transforms\n",
    "## YOUR CODE HERE ##\n",
    "train_transforms =transforms.Compose([#transforms.Resize(256),\n",
    "                                     # transforms.RandomResizedCrop(224),\n",
    "                                      transforms.RandomHorizontalFlip(),\n",
    "                                      transforms.ToTensor(),\n",
    "                                       transforms.Normalize((0.1307,), (0.3081,))\n",
    "                                      ])\n",
    "test_transforms = transforms.Compose([#transforms.Resize(256),\n",
    "                                    #  transforms.CenterCrop(224),\n",
    "                                      transforms.ToTensor(),\n",
    "                                       transforms.Normalize((0.1307,), (0.3081,))])\n",
    "# Create training set and define training dataloader\n",
    "## YOUR CODE HERE ##\n",
    "train_dataset = torchvision.datasets.MNIST(root='./data', train=True, download=True, transform=train_transforms)\n",
    "train_size = int(0.8 * len(train_dataset))  # 80%\n",
    "valid_size = len(train_dataset) - train_size  # 20%\n",
    "\n",
    "train_data, valid_data = torch.utils.data.random_split(train_dataset, [train_size, valid_size])\n",
    "\n",
    "train_loader = torch.utils.data.DataLoader(train_data, batch_size=64, shuffle=True)\n",
    "valid_loader = torch.utils.data.DataLoader(valid_data, batch_size=1000, shuffle=False)\n",
    "# Create test set and define test dataloader\n",
    "## YOUR CODE HERE ##\n",
    "test_data = torchvision.datasets.MNIST(root='./data', train=False, download=True, transform=test_transforms)\n",
    "test_loader = torch.utils.data.DataLoader(test_data, batch_size=1000, shuffle=False)\n"
   ]
  },
  {
   "cell_type": "markdown",
   "metadata": {},
   "source": [
    "## Justify your preprocessing\n",
    "\n",
    "In your own words, why did you choose the transforms you chose? If you didn't use any preprocessing steps, why not?"
   ]
  },
  {
   "cell_type": "markdown",
   "metadata": {},
   "source": [
    "**DOUBLE CLICK THIS CELL TO MODIFY**"
   ]
  },
  {
   "cell_type": "markdown",
   "metadata": {},
   "source": [
    "## Explore the Dataset\n",
    "Using matplotlib, numpy, and torch, explore the dimensions of your data.\n",
    "\n",
    "You can view images using the `show5` function defined below – it takes a data loader as an argument.\n",
    "Remember that normalized images will look really weird to you! You may want to try changing your transforms to view images.\n",
    "Typically using no transforms other than `toTensor()` works well for viewing – but not as well for training your network.\n",
    "If `show5` doesn't work, go back and check your code for creating your data loaders and your training/test sets."
   ]
  },
  {
   "cell_type": "code",
   "execution_count": 3,
   "metadata": {},
   "outputs": [],
   "source": [
    "## This cell contains a function for showing 5 images from a dataloader – DO NOT CHANGE THE CONTENTS! ##\n",
    "def show5(img_loader):\n",
    "    dataiter = iter(img_loader)\n",
    "    \n",
    "    batch = next(dataiter)\n",
    "    labels = batch[1][0:5]\n",
    "    images = batch[0][0:5]\n",
    "    for i in range(5):\n",
    "        print(int(labels[i].detach()))\n",
    "    \n",
    "        image = images[i].numpy()\n",
    "        plt.imshow(image.T.squeeze().T)\n",
    "        plt.show()"
   ]
  },
  {
   "cell_type": "code",
   "execution_count": 4,
   "metadata": {},
   "outputs": [
    {
     "name": "stdout",
     "output_type": "stream",
     "text": [
      "0\n"
     ]
    },
    {
     "data": {
      "image/png": "[encoded data removed]",
      "text/plain": [
       "<Figure size 432x288 with 1 Axes>"
      ]
     },
     "metadata": {
      "needs_background": "light"
     },
     "output_type": "display_data"
    },
    {
     "name": "stdout",
     "output_type": "stream",
     "text": [
      "2\n"
     ]
    },
    {
     "data": {
      "image/png": "[encoded data removed]",
      "text/plain": [
       "<Figure size 432x288 with 1 Axes>"
      ]
     },
     "metadata": {
      "needs_background": "light"
     },
     "output_type": "display_data"
    },
    {
     "name": "stdout",
     "output_type": "stream",
     "text": [
      "5\n"
     ]
    },
    {
     "data": {
      "image/png": "[encoded data removed]",
      "text/plain": [
       "<Figure size 432x288 with 1 Axes>"
      ]
     },
     "metadata": {
      "needs_background": "light"
     },
     "output_type": "display_data"
    },
    {
     "name": "stdout",
     "output_type": "stream",
     "text": [
      "3\n"
     ]
    },
    {
     "data": {
      "image/png": "[encoded data removed]",
      "text/plain": [
       "<Figure size 432x288 with 1 Axes>"
      ]
     },
     "metadata": {
      "needs_background": "light"
     },
     "output_type": "display_data"
    },
    {
     "name": "stdout",
     "output_type": "stream",
     "text": [
      "4\n"
     ]
    },
    {
     "data": {
      "image/png": "[encoded data removed]",
      "text/plain": [
       "<Figure size 432x288 with 1 Axes>"
      ]
     },
     "metadata": {
      "needs_background": "light"
     },
     "output_type": "display_data"
    }
   ],
   "source": [
    "# Explore data\n",
    "## YOUR CODE HERE ##\n",
    "show5(train_loader)"
   ]
  },
  {
   "cell_type": "markdown",
   "metadata": {},
   "source": [
    "## Build your Neural Network\n",
    "Using the layers in `torch.nn` (which has been imported as `nn`) and the `torch.nn.functional` module (imported as `F`), construct a neural network based on the parameters of the dataset.\n",
    "Use any architecture you like. \n",
    "\n",
    "*Note*: If you did not flatten your tensors in your transforms or as part of your preprocessing and you are using only `Linear` layers, make sure to use the `Flatten` layer in your network!"
   ]
  },
  {
   "cell_type": "code",
   "execution_count": 5,
   "metadata": {},
   "outputs": [],
   "source": [
    "## YOUR CODE HERE ##\n",
    "model= nn.Sequential(\n",
    "    nn.Flatten(),\n",
    "    nn.Linear(28*28, 128),\n",
    "    nn.ReLU(),\n",
    "    nn.Dropout(0.5),\n",
    "    nn.Linear(128, 10),\n",
    "    nn.LogSoftmax(dim=1))"
   ]
  },
  {
   "cell_type": "markdown",
   "metadata": {},
   "source": [
    "Specify a loss function and an optimizer, and instantiate the model.\n",
    "\n",
    "If you use a less common loss function, please note why you chose that loss function in a comment."
   ]
  },
  {
   "cell_type": "code",
   "execution_count": 6,
   "metadata": {},
   "outputs": [],
   "source": [
    "## YOUR CODE HERE ##\n",
    "criterion = nn.NLLLoss()\n",
    "optimizer = optim.Adam(model.parameters(), lr=0.001)"
   ]
  },
  {
   "cell_type": "markdown",
   "metadata": {},
   "source": [
    "## Running your Neural Network\n",
    "Use whatever method you like to train your neural network, and ensure you record the average loss at each epoch. \n",
    "Don't forget to use `torch.device()` and the `.to()` method for both your model and your data if you are using GPU!\n",
    "\n",
    "If you want to print your loss **during** each epoch, you can use the `enumerate` function and print the loss after a set number of batches. 250 batches works well for most people!"
   ]
  },
  {
   "cell_type": "code",
   "execution_count": 7,
   "metadata": {},
   "outputs": [
    {
     "name": "stdout",
     "output_type": "stream",
     "text": [
      "Epoch 1/10.. Train loss: 1.195.. Validation loss: 0.685.. Validiation accuracy: 7.806\n",
      "Epoch 1/10.. Train loss: 1.942.. Validation loss: 0.567.. Validiation accuracy: 8.261\n",
      "Epoch 1/10.. Train loss: 2.598.. Validation loss: 0.503.. Validiation accuracy: 8.461\n",
      "Epoch 1/10.. Train loss: 3.178.. Validation loss: 0.455.. Validiation accuracy: 8.550\n",
      "Epoch 1/10.. Train loss: 3.745.. Validation loss: 0.412.. Validiation accuracy: 8.755\n",
      "Epoch 1/10.. Train loss: 4.251.. Validation loss: 0.389.. Validiation accuracy: 8.847\n",
      "Epoch 1/10.. Train loss: 4.731.. Validation loss: 0.368.. Validiation accuracy: 8.922\n",
      "Epoch 1/10.. Train loss: 5.196.. Validation loss: 0.343.. Validiation accuracy: 8.944\n",
      "Epoch 1/10.. Train loss: 5.636.. Validation loss: 0.330.. Validiation accuracy: 9.027\n",
      "Epoch 1/10.. Train loss: 6.087.. Validation loss: 0.319.. Validiation accuracy: 9.026\n",
      "Epoch 1/10.. Train loss: 6.490.. Validation loss: 0.305.. Validiation accuracy: 9.083\n",
      "Epoch 2/10.. Train loss: 0.403.. Validation loss: 0.286.. Validiation accuracy: 9.120\n",
      "Epoch 2/10.. Train loss: 0.821.. Validation loss: 0.284.. Validiation accuracy: 9.116\n",
      "Epoch 2/10.. Train loss: 1.193.. Validation loss: 0.280.. Validiation accuracy: 9.140\n",
      "Epoch 2/10.. Train loss: 1.608.. Validation loss: 0.284.. Validiation accuracy: 9.155\n",
      "Epoch 2/10.. Train loss: 2.000.. Validation loss: 0.260.. Validiation accuracy: 9.211\n",
      "Epoch 2/10.. Train loss: 2.355.. Validation loss: 0.261.. Validiation accuracy: 9.218\n",
      "Epoch 2/10.. Train loss: 2.700.. Validation loss: 0.255.. Validiation accuracy: 9.219\n",
      "Epoch 2/10.. Train loss: 3.053.. Validation loss: 0.246.. Validiation accuracy: 9.246\n",
      "Epoch 2/10.. Train loss: 3.416.. Validation loss: 0.242.. Validiation accuracy: 9.269\n",
      "Epoch 2/10.. Train loss: 3.784.. Validation loss: 0.242.. Validiation accuracy: 9.271\n",
      "Epoch 2/10.. Train loss: 4.133.. Validation loss: 0.236.. Validiation accuracy: 9.283\n",
      "Epoch 3/10.. Train loss: 0.312.. Validation loss: 0.231.. Validiation accuracy: 9.279\n",
      "Epoch 3/10.. Train loss: 0.658.. Validation loss: 0.228.. Validiation accuracy: 9.306\n",
      "Epoch 3/10.. Train loss: 1.044.. Validation loss: 0.225.. Validiation accuracy: 9.307\n",
      "Epoch 3/10.. Train loss: 1.381.. Validation loss: 0.219.. Validiation accuracy: 9.334\n",
      "Epoch 3/10.. Train loss: 1.694.. Validation loss: 0.210.. Validiation accuracy: 9.356\n",
      "Epoch 3/10.. Train loss: 2.032.. Validation loss: 0.223.. Validiation accuracy: 9.319\n",
      "Epoch 3/10.. Train loss: 2.362.. Validation loss: 0.217.. Validiation accuracy: 9.331\n",
      "Epoch 3/10.. Train loss: 2.694.. Validation loss: 0.226.. Validiation accuracy: 9.272\n",
      "Epoch 3/10.. Train loss: 3.026.. Validation loss: 0.212.. Validiation accuracy: 9.371\n",
      "Epoch 3/10.. Train loss: 3.333.. Validation loss: 0.212.. Validiation accuracy: 9.334\n",
      "Epoch 3/10.. Train loss: 3.649.. Validation loss: 0.204.. Validiation accuracy: 9.363\n",
      "Epoch 4/10.. Train loss: 0.281.. Validation loss: 0.208.. Validiation accuracy: 9.334\n",
      "Epoch 4/10.. Train loss: 0.595.. Validation loss: 0.207.. Validiation accuracy: 9.352\n",
      "Epoch 4/10.. Train loss: 0.913.. Validation loss: 0.206.. Validiation accuracy: 9.360\n",
      "Epoch 4/10.. Train loss: 1.232.. Validation loss: 0.205.. Validiation accuracy: 9.367\n",
      "Epoch 4/10.. Train loss: 1.542.. Validation loss: 0.200.. Validiation accuracy: 9.358\n",
      "Epoch 4/10.. Train loss: 1.847.. Validation loss: 0.209.. Validiation accuracy: 9.332\n",
      "Epoch 4/10.. Train loss: 2.133.. Validation loss: 0.203.. Validiation accuracy: 9.366\n",
      "Epoch 4/10.. Train loss: 2.426.. Validation loss: 0.197.. Validiation accuracy: 9.367\n",
      "Epoch 4/10.. Train loss: 2.745.. Validation loss: 0.198.. Validiation accuracy: 9.382\n",
      "Epoch 4/10.. Train loss: 3.070.. Validation loss: 0.184.. Validiation accuracy: 9.424\n",
      "Epoch 4/10.. Train loss: 3.381.. Validation loss: 0.186.. Validiation accuracy: 9.428\n",
      "Epoch 5/10.. Train loss: 0.305.. Validation loss: 0.196.. Validiation accuracy: 9.398\n",
      "Epoch 5/10.. Train loss: 0.595.. Validation loss: 0.187.. Validiation accuracy: 9.392\n",
      "Epoch 5/10.. Train loss: 0.890.. Validation loss: 0.190.. Validiation accuracy: 9.417\n",
      "Epoch 5/10.. Train loss: 1.187.. Validation loss: 0.183.. Validiation accuracy: 9.420\n",
      "Epoch 5/10.. Train loss: 1.475.. Validation loss: 0.194.. Validiation accuracy: 9.387\n",
      "Epoch 5/10.. Train loss: 1.745.. Validation loss: 0.188.. Validiation accuracy: 9.418\n",
      "Epoch 5/10.. Train loss: 2.036.. Validation loss: 0.189.. Validiation accuracy: 9.388\n",
      "Epoch 5/10.. Train loss: 2.347.. Validation loss: 0.188.. Validiation accuracy: 9.406\n",
      "Epoch 5/10.. Train loss: 2.637.. Validation loss: 0.181.. Validiation accuracy: 9.423\n",
      "Epoch 5/10.. Train loss: 2.915.. Validation loss: 0.179.. Validiation accuracy: 9.452\n",
      "Epoch 5/10.. Train loss: 3.215.. Validation loss: 0.191.. Validiation accuracy: 9.405\n",
      "Epoch 6/10.. Train loss: 0.305.. Validation loss: 0.178.. Validiation accuracy: 9.449\n",
      "Epoch 6/10.. Train loss: 0.572.. Validation loss: 0.179.. Validiation accuracy: 9.438\n",
      "Epoch 6/10.. Train loss: 0.845.. Validation loss: 0.184.. Validiation accuracy: 9.410\n",
      "Epoch 6/10.. Train loss: 1.092.. Validation loss: 0.176.. Validiation accuracy: 9.447\n",
      "Epoch 6/10.. Train loss: 1.382.. Validation loss: 0.175.. Validiation accuracy: 9.444\n",
      "Epoch 6/10.. Train loss: 1.660.. Validation loss: 0.174.. Validiation accuracy: 9.452\n",
      "Epoch 6/10.. Train loss: 1.955.. Validation loss: 0.173.. Validiation accuracy: 9.456\n",
      "Epoch 6/10.. Train loss: 2.239.. Validation loss: 0.175.. Validiation accuracy: 9.437\n",
      "Epoch 6/10.. Train loss: 2.507.. Validation loss: 0.180.. Validiation accuracy: 9.447\n",
      "Epoch 6/10.. Train loss: 2.799.. Validation loss: 0.168.. Validiation accuracy: 9.469\n",
      "Epoch 6/10.. Train loss: 3.081.. Validation loss: 0.170.. Validiation accuracy: 9.496\n",
      "Epoch 7/10.. Train loss: 0.272.. Validation loss: 0.176.. Validiation accuracy: 9.447\n",
      "Epoch 7/10.. Train loss: 0.538.. Validation loss: 0.173.. Validiation accuracy: 9.455\n",
      "Epoch 7/10.. Train loss: 0.799.. Validation loss: 0.177.. Validiation accuracy: 9.435\n",
      "Epoch 7/10.. Train loss: 1.076.. Validation loss: 0.171.. Validiation accuracy: 9.458\n",
      "Epoch 7/10.. Train loss: 1.337.. Validation loss: 0.174.. Validiation accuracy: 9.463\n",
      "Epoch 7/10.. Train loss: 1.617.. Validation loss: 0.168.. Validiation accuracy: 9.480\n",
      "Epoch 7/10.. Train loss: 1.872.. Validation loss: 0.168.. Validiation accuracy: 9.465\n",
      "Epoch 7/10.. Train loss: 2.169.. Validation loss: 0.164.. Validiation accuracy: 9.472\n",
      "Epoch 7/10.. Train loss: 2.437.. Validation loss: 0.166.. Validiation accuracy: 9.459\n",
      "Epoch 7/10.. Train loss: 2.696.. Validation loss: 0.167.. Validiation accuracy: 9.450\n",
      "Epoch 7/10.. Train loss: 2.971.. Validation loss: 0.167.. Validiation accuracy: 9.468\n",
      "Epoch 8/10.. Train loss: 0.249.. Validation loss: 0.172.. Validiation accuracy: 9.454\n",
      "Epoch 8/10.. Train loss: 0.520.. Validation loss: 0.156.. Validiation accuracy: 9.505\n",
      "Epoch 8/10.. Train loss: 0.765.. Validation loss: 0.163.. Validiation accuracy: 9.483\n",
      "Epoch 8/10.. Train loss: 1.021.. Validation loss: 0.163.. Validiation accuracy: 9.467\n",
      "Epoch 8/10.. Train loss: 1.290.. Validation loss: 0.168.. Validiation accuracy: 9.483\n",
      "Epoch 8/10.. Train loss: 1.565.. Validation loss: 0.169.. Validiation accuracy: 9.466\n",
      "Epoch 8/10.. Train loss: 1.824.. Validation loss: 0.161.. Validiation accuracy: 9.474\n",
      "Epoch 8/10.. Train loss: 2.076.. Validation loss: 0.161.. Validiation accuracy: 9.493\n",
      "Epoch 8/10.. Train loss: 2.337.. Validation loss: 0.161.. Validiation accuracy: 9.486\n",
      "Epoch 8/10.. Train loss: 2.581.. Validation loss: 0.163.. Validiation accuracy: 9.488\n",
      "Epoch 8/10.. Train loss: 2.847.. Validation loss: 0.170.. Validiation accuracy: 9.463\n",
      "Epoch 9/10.. Train loss: 0.265.. Validation loss: 0.154.. Validiation accuracy: 9.500\n",
      "Epoch 9/10.. Train loss: 0.519.. Validation loss: 0.156.. Validiation accuracy: 9.519\n",
      "Epoch 9/10.. Train loss: 0.776.. Validation loss: 0.160.. Validiation accuracy: 9.504\n",
      "Epoch 9/10.. Train loss: 1.026.. Validation loss: 0.160.. Validiation accuracy: 9.485\n",
      "Epoch 9/10.. Train loss: 1.267.. Validation loss: 0.165.. Validiation accuracy: 9.472\n",
      "Epoch 9/10.. Train loss: 1.498.. Validation loss: 0.169.. Validiation accuracy: 9.463\n",
      "Epoch 9/10.. Train loss: 1.757.. Validation loss: 0.153.. Validiation accuracy: 9.518\n",
      "Epoch 9/10.. Train loss: 2.018.. Validation loss: 0.159.. Validiation accuracy: 9.495\n"
     ]
    },
    {
     "name": "stdout",
     "output_type": "stream",
     "text": [
      "Epoch 9/10.. Train loss: 2.278.. Validation loss: 0.152.. Validiation accuracy: 9.518\n",
      "Epoch 9/10.. Train loss: 2.537.. Validation loss: 0.158.. Validiation accuracy: 9.494\n",
      "Epoch 9/10.. Train loss: 2.807.. Validation loss: 0.161.. Validiation accuracy: 9.492\n",
      "Epoch 10/10.. Train loss: 0.257.. Validation loss: 0.153.. Validiation accuracy: 9.515\n",
      "Epoch 10/10.. Train loss: 0.499.. Validation loss: 0.152.. Validiation accuracy: 9.527\n",
      "Epoch 10/10.. Train loss: 0.749.. Validation loss: 0.158.. Validiation accuracy: 9.500\n",
      "Epoch 10/10.. Train loss: 1.008.. Validation loss: 0.151.. Validiation accuracy: 9.519\n",
      "Epoch 10/10.. Train loss: 1.246.. Validation loss: 0.159.. Validiation accuracy: 9.498\n",
      "Epoch 10/10.. Train loss: 1.498.. Validation loss: 0.161.. Validiation accuracy: 9.484\n",
      "Epoch 10/10.. Train loss: 1.733.. Validation loss: 0.159.. Validiation accuracy: 9.492\n",
      "Epoch 10/10.. Train loss: 1.970.. Validation loss: 0.149.. Validiation accuracy: 9.534\n",
      "Epoch 10/10.. Train loss: 2.221.. Validation loss: 0.148.. Validiation accuracy: 9.535\n",
      "Epoch 10/10.. Train loss: 2.448.. Validation loss: 0.156.. Validiation accuracy: 9.498\n",
      "Epoch 10/10.. Train loss: 2.686.. Validation loss: 0.148.. Validiation accuracy: 9.531\n"
     ]
    }
   ],
   "source": [
    "## YOUR CODE HERE ##\n",
    "device = torch.device(\"cuda\" if torch.cuda.is_available() else \"cpu\")\n",
    "model.to(device);\n",
    "epochs = 10\n",
    "print_every = 64\n",
    "train_losses = []\n",
    "valid_losses = []\n",
    "valid_accuracies = []\n",
    "for e in range(epochs):\n",
    "    steps = 0\n",
    "    running_loss = 0\n",
    "    for images, labels in train_loader:\n",
    "        steps +=1\n",
    "        images, labels = images.to(device), labels.to(device)\n",
    "        optimizer.zero_grad()\n",
    "        \n",
    "        train_log_ps = model(images)\n",
    "        loss = criterion(train_log_ps, labels)\n",
    "        loss.backward()\n",
    "        optimizer.step()\n",
    "        running_loss += loss.item()\n",
    "\n",
    "        if steps % print_every == 0:\n",
    "            model.eval()\n",
    "            valid_loss = 0\n",
    "            valid_accuracy = 0\n",
    "            # Turn off gradients for validation, saves memory and computations\n",
    "            with torch.no_grad():\n",
    "                for images_valid, labels_valid in valid_loader:\n",
    "                    images_valid, labels_valid = images_valid.to(device), labels_valid.to(device)\n",
    "                    log_ps = model(images_valid)\n",
    "                    batch_loss = criterion(log_ps, labels_valid)\n",
    "                    valid_loss += batch_loss.item()\n",
    "                    ps = torch.exp(log_ps)\n",
    "                    top_p, top_class = ps.topk(1)\n",
    "                    equals =( top_class == labels_valid.view(*top_class.shape))\n",
    "                    valid_accuracy += (equals.type(torch.FloatTensor)).sum().item()\n",
    "\n",
    "            print(f\"Epoch {e+1}/{epochs}.. \"\n",
    "              f\"Train loss: {running_loss/print_every:.3f}.. \"\n",
    "              f\"Validation loss: {valid_loss/len(valid_loader):.3f}.. \"\n",
    "              f\"Validiation accuracy: {valid_accuracy/len(valid_loader)/100:.3f}\")\n",
    "            train_losses.append(running_loss/print_every)\n",
    "            valid_losses.append(valid_loss/len(valid_loader))\n",
    "            valid_accuracies.append(valid_accuracy/len(valid_loader)/100)\n",
    "        model.train()"
   ]
  },
  {
   "cell_type": "markdown",
   "metadata": {},
   "source": [
    "Plot the training loss (and validation loss/accuracy, if recorded)."
   ]
  },
  {
   "cell_type": "code",
   "execution_count": 8,
   "metadata": {},
   "outputs": [
    {
     "data": {
      "image/png": "[encoded data removed]",
      "text/plain": [
       "<Figure size 864x360 with 2 Axes>"
      ]
     },
     "metadata": {
      "needs_background": "light"
     },
     "output_type": "display_data"
    }
   ],
   "source": [
    "## YOUR CODE HERE ##\n",
    "epochs_range = range(1, len(train_losses) + 1)\n",
    "\n",
    "plt.figure(figsize=(12, 5))\n",
    "\n",
    "plt.subplot(1, 2, 1)\n",
    "plt.plot(epochs_range, train_losses, label='Train Loss')\n",
    "plt.plot(epochs_range, valid_losses, label='Validation Loss')\n",
    "plt.xlabel('Checkpoints')\n",
    "plt.ylabel('Loss')\n",
    "plt.legend()\n",
    "plt.title('Training and Validation Loss')\n",
    "\n",
    "plt.subplot(1, 2, 2)\n",
    "plt.plot(epochs_range, valid_accuracies, label='Validation Accuracy')\n",
    "plt.xlabel('Checkpoints')\n",
    "plt.ylabel('Accuracy')\n",
    "plt.legend()\n",
    "plt.title('Validation Accuracy')\n",
    "\n",
    "plt.show()"
   ]
  },
  {
   "cell_type": "markdown",
   "metadata": {},
   "source": [
    "## Testing your model\n",
    "Using the previously created `DataLoader` for the test set, compute the percentage of correct predictions using the highest probability prediction. \n",
    "\n",
    "If your accuracy is over 90%, great work, but see if you can push a bit further! \n",
    "If your accuracy is under 90%, you'll need to make improvements.\n",
    "Go back and check your model architecture, loss function, and optimizer to make sure they're appropriate for an image classification task."
   ]
  },
  {
   "cell_type": "code",
   "execution_count": 9,
   "metadata": {},
   "outputs": [
    {
     "name": "stdout",
     "output_type": "stream",
     "text": [
      "Test loss: 0.148.. Test accuracy: 9.557\n"
     ]
    }
   ],
   "source": [
    "## YOUR CODE HERE ##\n",
    "test_loss = 0\n",
    "accuracy = 0\n",
    "model.eval()\n",
    "with torch.no_grad():\n",
    "    for images_test, labels_test in test_loader:\n",
    "        images_test, labels_test = images_test.to(device), labels_test.to(device)\n",
    "        log_ps = model(images_test)\n",
    "        batch_loss = criterion(log_ps, labels_test)\n",
    "        test_loss += batch_loss.item()\n",
    "        ps = torch.exp(log_ps)\n",
    "        top_p, top_class = ps.topk(1)\n",
    "        equals =( top_class == (labels_test.view(*top_class.shape)))\n",
    "        accuracy += (equals.type(torch.FloatTensor)).sum().item()\n",
    "print(f\"Test loss: {test_loss/len(test_loader):.3f}.. \"\n",
    "      f\"Test accuracy: {accuracy/len(test_loader)/100:.3f}\")"
   ]
  },
  {
   "cell_type": "markdown",
   "metadata": {},
   "source": [
    "## Improving your model\n",
    "\n",
    "Once your model is done training, try tweaking your hyperparameters and training again below to improve your accuracy on the test set!"
   ]
  },
  {
   "cell_type": "code",
   "execution_count": 10,
   "metadata": {},
   "outputs": [
    {
     "name": "stdout",
     "output_type": "stream",
     "text": [
      "Epoch 1/30.. Train loss: 0.217.. Validation loss: 0.148.. Validiation accuracy: 9.534\n",
      "Epoch 1/30.. Train loss: 0.436.. Validation loss: 0.151.. Validiation accuracy: 9.521\n",
      "Epoch 1/30.. Train loss: 0.670.. Validation loss: 0.148.. Validiation accuracy: 9.547\n",
      "Epoch 1/30.. Train loss: 0.892.. Validation loss: 0.145.. Validiation accuracy: 9.540\n",
      "Epoch 1/30.. Train loss: 1.109.. Validation loss: 0.145.. Validiation accuracy: 9.544\n",
      "Epoch 1/30.. Train loss: 1.338.. Validation loss: 0.147.. Validiation accuracy: 9.539\n",
      "Epoch 1/30.. Train loss: 1.573.. Validation loss: 0.142.. Validiation accuracy: 9.540\n",
      "Epoch 1/30.. Train loss: 1.797.. Validation loss: 0.145.. Validiation accuracy: 9.541\n",
      "Epoch 1/30.. Train loss: 2.023.. Validation loss: 0.143.. Validiation accuracy: 9.546\n",
      "Epoch 1/30.. Train loss: 2.252.. Validation loss: 0.140.. Validiation accuracy: 9.554\n",
      "Epoch 1/30.. Train loss: 2.479.. Validation loss: 0.138.. Validiation accuracy: 9.562\n",
      "Epoch 2/30.. Train loss: 0.209.. Validation loss: 0.140.. Validiation accuracy: 9.565\n",
      "Epoch 2/30.. Train loss: 0.442.. Validation loss: 0.140.. Validiation accuracy: 9.557\n",
      "Epoch 2/30.. Train loss: 0.683.. Validation loss: 0.141.. Validiation accuracy: 9.543\n",
      "Epoch 2/30.. Train loss: 0.897.. Validation loss: 0.139.. Validiation accuracy: 9.584\n",
      "Epoch 2/30.. Train loss: 1.106.. Validation loss: 0.144.. Validiation accuracy: 9.543\n",
      "Epoch 2/30.. Train loss: 1.309.. Validation loss: 0.142.. Validiation accuracy: 9.546\n",
      "Epoch 2/30.. Train loss: 1.536.. Validation loss: 0.141.. Validiation accuracy: 9.553\n",
      "Epoch 2/30.. Train loss: 1.745.. Validation loss: 0.138.. Validiation accuracy: 9.559\n",
      "Epoch 2/30.. Train loss: 1.953.. Validation loss: 0.141.. Validiation accuracy: 9.551\n",
      "Epoch 2/30.. Train loss: 2.159.. Validation loss: 0.140.. Validiation accuracy: 9.556\n",
      "Epoch 2/30.. Train loss: 2.388.. Validation loss: 0.138.. Validiation accuracy: 9.562\n",
      "Epoch 3/30.. Train loss: 0.213.. Validation loss: 0.139.. Validiation accuracy: 9.557\n",
      "Epoch 3/30.. Train loss: 0.439.. Validation loss: 0.138.. Validiation accuracy: 9.555\n",
      "Epoch 3/30.. Train loss: 0.631.. Validation loss: 0.139.. Validiation accuracy: 9.553\n",
      "Epoch 3/30.. Train loss: 0.822.. Validation loss: 0.138.. Validiation accuracy: 9.554\n",
      "Epoch 3/30.. Train loss: 1.017.. Validation loss: 0.135.. Validiation accuracy: 9.565\n",
      "Epoch 3/30.. Train loss: 1.220.. Validation loss: 0.136.. Validiation accuracy: 9.561\n",
      "Epoch 3/30.. Train loss: 1.439.. Validation loss: 0.135.. Validiation accuracy: 9.577\n",
      "Epoch 3/30.. Train loss: 1.646.. Validation loss: 0.140.. Validiation accuracy: 9.569\n",
      "Epoch 3/30.. Train loss: 1.848.. Validation loss: 0.137.. Validiation accuracy: 9.568\n",
      "Epoch 3/30.. Train loss: 2.079.. Validation loss: 0.138.. Validiation accuracy: 9.558\n",
      "Epoch 3/30.. Train loss: 2.285.. Validation loss: 0.138.. Validiation accuracy: 9.547\n",
      "Epoch 4/30.. Train loss: 0.219.. Validation loss: 0.139.. Validiation accuracy: 9.550\n",
      "Epoch 4/30.. Train loss: 0.416.. Validation loss: 0.134.. Validiation accuracy: 9.570\n",
      "Epoch 4/30.. Train loss: 0.618.. Validation loss: 0.133.. Validiation accuracy: 9.579\n",
      "Epoch 4/30.. Train loss: 0.834.. Validation loss: 0.134.. Validiation accuracy: 9.584\n",
      "Epoch 4/30.. Train loss: 1.035.. Validation loss: 0.135.. Validiation accuracy: 9.584\n",
      "Epoch 4/30.. Train loss: 1.251.. Validation loss: 0.133.. Validiation accuracy: 9.570\n",
      "Epoch 4/30.. Train loss: 1.474.. Validation loss: 0.133.. Validiation accuracy: 9.583\n",
      "Epoch 4/30.. Train loss: 1.677.. Validation loss: 0.136.. Validiation accuracy: 9.572\n",
      "Epoch 4/30.. Train loss: 1.903.. Validation loss: 0.134.. Validiation accuracy: 9.582\n",
      "Epoch 4/30.. Train loss: 2.125.. Validation loss: 0.135.. Validiation accuracy: 9.577\n",
      "Epoch 4/30.. Train loss: 2.324.. Validation loss: 0.132.. Validiation accuracy: 9.587\n",
      "Epoch 5/30.. Train loss: 0.219.. Validation loss: 0.134.. Validiation accuracy: 9.573\n",
      "Epoch 5/30.. Train loss: 0.424.. Validation loss: 0.134.. Validiation accuracy: 9.577\n",
      "Epoch 5/30.. Train loss: 0.625.. Validation loss: 0.137.. Validiation accuracy: 9.572\n",
      "Epoch 5/30.. Train loss: 0.814.. Validation loss: 0.136.. Validiation accuracy: 9.575\n",
      "Epoch 5/30.. Train loss: 1.026.. Validation loss: 0.133.. Validiation accuracy: 9.572\n",
      "Epoch 5/30.. Train loss: 1.237.. Validation loss: 0.136.. Validiation accuracy: 9.568\n",
      "Epoch 5/30.. Train loss: 1.448.. Validation loss: 0.135.. Validiation accuracy: 9.569\n",
      "Epoch 5/30.. Train loss: 1.647.. Validation loss: 0.135.. Validiation accuracy: 9.578\n",
      "Epoch 5/30.. Train loss: 1.843.. Validation loss: 0.134.. Validiation accuracy: 9.575\n",
      "Epoch 5/30.. Train loss: 2.045.. Validation loss: 0.136.. Validiation accuracy: 9.581\n",
      "Epoch 5/30.. Train loss: 2.242.. Validation loss: 0.135.. Validiation accuracy: 9.574\n",
      "Epoch 6/30.. Train loss: 0.209.. Validation loss: 0.133.. Validiation accuracy: 9.578\n",
      "Epoch 6/30.. Train loss: 0.417.. Validation loss: 0.132.. Validiation accuracy: 9.588\n",
      "Epoch 6/30.. Train loss: 0.605.. Validation loss: 0.133.. Validiation accuracy: 9.580\n",
      "Epoch 6/30.. Train loss: 0.814.. Validation loss: 0.136.. Validiation accuracy: 9.581\n",
      "Epoch 6/30.. Train loss: 1.007.. Validation loss: 0.131.. Validiation accuracy: 9.583\n",
      "Epoch 6/30.. Train loss: 1.229.. Validation loss: 0.132.. Validiation accuracy: 9.587\n",
      "Epoch 6/30.. Train loss: 1.436.. Validation loss: 0.134.. Validiation accuracy: 9.577\n",
      "Epoch 6/30.. Train loss: 1.639.. Validation loss: 0.130.. Validiation accuracy: 9.585\n",
      "Epoch 6/30.. Train loss: 1.829.. Validation loss: 0.130.. Validiation accuracy: 9.588\n",
      "Epoch 6/30.. Train loss: 2.006.. Validation loss: 0.133.. Validiation accuracy: 9.589\n",
      "Epoch 6/30.. Train loss: 2.213.. Validation loss: 0.130.. Validiation accuracy: 9.587\n",
      "Epoch 7/30.. Train loss: 0.210.. Validation loss: 0.131.. Validiation accuracy: 9.582\n",
      "Epoch 7/30.. Train loss: 0.411.. Validation loss: 0.129.. Validiation accuracy: 9.582\n",
      "Epoch 7/30.. Train loss: 0.603.. Validation loss: 0.131.. Validiation accuracy: 9.599\n",
      "Epoch 7/30.. Train loss: 0.801.. Validation loss: 0.128.. Validiation accuracy: 9.584\n",
      "Epoch 7/30.. Train loss: 0.985.. Validation loss: 0.129.. Validiation accuracy: 9.595\n",
      "Epoch 7/30.. Train loss: 1.177.. Validation loss: 0.128.. Validiation accuracy: 9.597\n",
      "Epoch 7/30.. Train loss: 1.378.. Validation loss: 0.133.. Validiation accuracy: 9.592\n",
      "Epoch 7/30.. Train loss: 1.617.. Validation loss: 0.129.. Validiation accuracy: 9.580\n",
      "Epoch 7/30.. Train loss: 1.829.. Validation loss: 0.131.. Validiation accuracy: 9.587\n",
      "Epoch 7/30.. Train loss: 2.014.. Validation loss: 0.132.. Validiation accuracy: 9.588\n",
      "Epoch 7/30.. Train loss: 2.220.. Validation loss: 0.131.. Validiation accuracy: 9.603\n",
      "Epoch 8/30.. Train loss: 0.190.. Validation loss: 0.130.. Validiation accuracy: 9.586\n",
      "Epoch 8/30.. Train loss: 0.389.. Validation loss: 0.132.. Validiation accuracy: 9.585\n",
      "Epoch 8/30.. Train loss: 0.582.. Validation loss: 0.128.. Validiation accuracy: 9.592\n",
      "Epoch 8/30.. Train loss: 0.768.. Validation loss: 0.128.. Validiation accuracy: 9.588\n",
      "Epoch 8/30.. Train loss: 0.958.. Validation loss: 0.128.. Validiation accuracy: 9.598\n",
      "Epoch 8/30.. Train loss: 1.152.. Validation loss: 0.129.. Validiation accuracy: 9.591\n",
      "Epoch 8/30.. Train loss: 1.364.. Validation loss: 0.127.. Validiation accuracy: 9.612\n",
      "Epoch 8/30.. Train loss: 1.561.. Validation loss: 0.124.. Validiation accuracy: 9.610\n",
      "Epoch 8/30.. Train loss: 1.772.. Validation loss: 0.126.. Validiation accuracy: 9.603\n",
      "Epoch 8/30.. Train loss: 1.968.. Validation loss: 0.133.. Validiation accuracy: 9.586\n",
      "Epoch 8/30.. Train loss: 2.166.. Validation loss: 0.128.. Validiation accuracy: 9.596\n",
      "Epoch 9/30.. Train loss: 0.203.. Validation loss: 0.130.. Validiation accuracy: 9.590\n",
      "Epoch 9/30.. Train loss: 0.400.. Validation loss: 0.129.. Validiation accuracy: 9.593\n",
      "Epoch 9/30.. Train loss: 0.597.. Validation loss: 0.131.. Validiation accuracy: 9.591\n",
      "Epoch 9/30.. Train loss: 0.796.. Validation loss: 0.126.. Validiation accuracy: 9.596\n",
      "Epoch 9/30.. Train loss: 0.991.. Validation loss: 0.129.. Validiation accuracy: 9.604\n",
      "Epoch 9/30.. Train loss: 1.189.. Validation loss: 0.131.. Validiation accuracy: 9.592\n",
      "Epoch 9/30.. Train loss: 1.396.. Validation loss: 0.130.. Validiation accuracy: 9.597\n",
      "Epoch 9/30.. Train loss: 1.598.. Validation loss: 0.127.. Validiation accuracy: 9.608\n"
     ]
    },
    {
     "name": "stdout",
     "output_type": "stream",
     "text": [
      "Epoch 9/30.. Train loss: 1.795.. Validation loss: 0.127.. Validiation accuracy: 9.598\n",
      "Epoch 9/30.. Train loss: 1.980.. Validation loss: 0.128.. Validiation accuracy: 9.597\n",
      "Epoch 9/30.. Train loss: 2.177.. Validation loss: 0.126.. Validiation accuracy: 9.603\n",
      "Epoch 10/30.. Train loss: 0.193.. Validation loss: 0.132.. Validiation accuracy: 9.586\n",
      "Epoch 10/30.. Train loss: 0.382.. Validation loss: 0.130.. Validiation accuracy: 9.599\n",
      "Epoch 10/30.. Train loss: 0.583.. Validation loss: 0.132.. Validiation accuracy: 9.578\n",
      "Epoch 10/30.. Train loss: 0.780.. Validation loss: 0.128.. Validiation accuracy: 9.578\n",
      "Epoch 10/30.. Train loss: 0.984.. Validation loss: 0.127.. Validiation accuracy: 9.583\n",
      "Epoch 10/30.. Train loss: 1.179.. Validation loss: 0.127.. Validiation accuracy: 9.591\n",
      "Epoch 10/30.. Train loss: 1.382.. Validation loss: 0.131.. Validiation accuracy: 9.591\n",
      "Epoch 10/30.. Train loss: 1.582.. Validation loss: 0.128.. Validiation accuracy: 9.604\n",
      "Epoch 10/30.. Train loss: 1.767.. Validation loss: 0.127.. Validiation accuracy: 9.601\n",
      "Epoch 10/30.. Train loss: 1.955.. Validation loss: 0.130.. Validiation accuracy: 9.593\n",
      "Epoch 10/30.. Train loss: 2.138.. Validation loss: 0.128.. Validiation accuracy: 9.594\n",
      "Epoch 11/30.. Train loss: 0.186.. Validation loss: 0.130.. Validiation accuracy: 9.602\n",
      "Epoch 11/30.. Train loss: 0.384.. Validation loss: 0.127.. Validiation accuracy: 9.601\n",
      "Epoch 11/30.. Train loss: 0.581.. Validation loss: 0.125.. Validiation accuracy: 9.598\n",
      "Epoch 11/30.. Train loss: 0.752.. Validation loss: 0.128.. Validiation accuracy: 9.586\n",
      "Epoch 11/30.. Train loss: 0.955.. Validation loss: 0.124.. Validiation accuracy: 9.600\n",
      "Epoch 11/30.. Train loss: 1.132.. Validation loss: 0.130.. Validiation accuracy: 9.599\n",
      "Epoch 11/30.. Train loss: 1.363.. Validation loss: 0.124.. Validiation accuracy: 9.602\n",
      "Epoch 11/30.. Train loss: 1.561.. Validation loss: 0.130.. Validiation accuracy: 9.580\n",
      "Epoch 11/30.. Train loss: 1.757.. Validation loss: 0.125.. Validiation accuracy: 9.602\n",
      "Epoch 11/30.. Train loss: 1.940.. Validation loss: 0.125.. Validiation accuracy: 9.602\n",
      "Epoch 11/30.. Train loss: 2.142.. Validation loss: 0.127.. Validiation accuracy: 9.601\n",
      "Epoch 12/30.. Train loss: 0.177.. Validation loss: 0.127.. Validiation accuracy: 9.592\n",
      "Epoch 12/30.. Train loss: 0.363.. Validation loss: 0.125.. Validiation accuracy: 9.614\n",
      "Epoch 12/30.. Train loss: 0.536.. Validation loss: 0.129.. Validiation accuracy: 9.595\n",
      "Epoch 12/30.. Train loss: 0.733.. Validation loss: 0.128.. Validiation accuracy: 9.601\n",
      "Epoch 12/30.. Train loss: 0.917.. Validation loss: 0.131.. Validiation accuracy: 9.582\n",
      "Epoch 12/30.. Train loss: 1.101.. Validation loss: 0.132.. Validiation accuracy: 9.578\n",
      "Epoch 12/30.. Train loss: 1.302.. Validation loss: 0.124.. Validiation accuracy: 9.602\n",
      "Epoch 12/30.. Train loss: 1.494.. Validation loss: 0.128.. Validiation accuracy: 9.605\n",
      "Epoch 12/30.. Train loss: 1.684.. Validation loss: 0.124.. Validiation accuracy: 9.607\n",
      "Epoch 12/30.. Train loss: 1.890.. Validation loss: 0.122.. Validiation accuracy: 9.617\n",
      "Epoch 12/30.. Train loss: 2.088.. Validation loss: 0.122.. Validiation accuracy: 9.623\n",
      "Epoch 13/30.. Train loss: 0.182.. Validation loss: 0.125.. Validiation accuracy: 9.594\n",
      "Epoch 13/30.. Train loss: 0.388.. Validation loss: 0.127.. Validiation accuracy: 9.592\n",
      "Epoch 13/30.. Train loss: 0.586.. Validation loss: 0.126.. Validiation accuracy: 9.600\n",
      "Epoch 13/30.. Train loss: 0.761.. Validation loss: 0.128.. Validiation accuracy: 9.598\n",
      "Epoch 13/30.. Train loss: 0.962.. Validation loss: 0.125.. Validiation accuracy: 9.600\n",
      "Epoch 13/30.. Train loss: 1.155.. Validation loss: 0.126.. Validiation accuracy: 9.599\n",
      "Epoch 13/30.. Train loss: 1.330.. Validation loss: 0.124.. Validiation accuracy: 9.607\n",
      "Epoch 13/30.. Train loss: 1.532.. Validation loss: 0.126.. Validiation accuracy: 9.606\n",
      "Epoch 13/30.. Train loss: 1.735.. Validation loss: 0.122.. Validiation accuracy: 9.617\n",
      "Epoch 13/30.. Train loss: 1.920.. Validation loss: 0.123.. Validiation accuracy: 9.612\n",
      "Epoch 13/30.. Train loss: 2.103.. Validation loss: 0.124.. Validiation accuracy: 9.617\n",
      "Epoch 14/30.. Train loss: 0.175.. Validation loss: 0.124.. Validiation accuracy: 9.613\n",
      "Epoch 14/30.. Train loss: 0.360.. Validation loss: 0.127.. Validiation accuracy: 9.608\n",
      "Epoch 14/30.. Train loss: 0.535.. Validation loss: 0.126.. Validiation accuracy: 9.609\n",
      "Epoch 14/30.. Train loss: 0.727.. Validation loss: 0.126.. Validiation accuracy: 9.601\n",
      "Epoch 14/30.. Train loss: 0.921.. Validation loss: 0.124.. Validiation accuracy: 9.611\n",
      "Epoch 14/30.. Train loss: 1.099.. Validation loss: 0.125.. Validiation accuracy: 9.602\n",
      "Epoch 14/30.. Train loss: 1.283.. Validation loss: 0.127.. Validiation accuracy: 9.593\n",
      "Epoch 14/30.. Train loss: 1.473.. Validation loss: 0.126.. Validiation accuracy: 9.601\n",
      "Epoch 14/30.. Train loss: 1.659.. Validation loss: 0.126.. Validiation accuracy: 9.610\n",
      "Epoch 14/30.. Train loss: 1.855.. Validation loss: 0.131.. Validiation accuracy: 9.598\n",
      "Epoch 14/30.. Train loss: 2.041.. Validation loss: 0.121.. Validiation accuracy: 9.605\n",
      "Epoch 15/30.. Train loss: 0.200.. Validation loss: 0.126.. Validiation accuracy: 9.597\n",
      "Epoch 15/30.. Train loss: 0.394.. Validation loss: 0.128.. Validiation accuracy: 9.596\n",
      "Epoch 15/30.. Train loss: 0.604.. Validation loss: 0.123.. Validiation accuracy: 9.617\n",
      "Epoch 15/30.. Train loss: 0.787.. Validation loss: 0.122.. Validiation accuracy: 9.610\n",
      "Epoch 15/30.. Train loss: 0.965.. Validation loss: 0.122.. Validiation accuracy: 9.615\n",
      "Epoch 15/30.. Train loss: 1.150.. Validation loss: 0.128.. Validiation accuracy: 9.614\n",
      "Epoch 15/30.. Train loss: 1.343.. Validation loss: 0.125.. Validiation accuracy: 9.609\n",
      "Epoch 15/30.. Train loss: 1.515.. Validation loss: 0.129.. Validiation accuracy: 9.599\n",
      "Epoch 15/30.. Train loss: 1.701.. Validation loss: 0.125.. Validiation accuracy: 9.613\n",
      "Epoch 15/30.. Train loss: 1.887.. Validation loss: 0.128.. Validiation accuracy: 9.607\n",
      "Epoch 15/30.. Train loss: 2.072.. Validation loss: 0.129.. Validiation accuracy: 9.605\n",
      "Epoch 16/30.. Train loss: 0.197.. Validation loss: 0.124.. Validiation accuracy: 9.612\n",
      "Epoch 16/30.. Train loss: 0.376.. Validation loss: 0.124.. Validiation accuracy: 9.610\n",
      "Epoch 16/30.. Train loss: 0.550.. Validation loss: 0.123.. Validiation accuracy: 9.624\n",
      "Epoch 16/30.. Train loss: 0.723.. Validation loss: 0.122.. Validiation accuracy: 9.623\n",
      "Epoch 16/30.. Train loss: 0.895.. Validation loss: 0.122.. Validiation accuracy: 9.622\n",
      "Epoch 16/30.. Train loss: 1.074.. Validation loss: 0.122.. Validiation accuracy: 9.615\n",
      "Epoch 16/30.. Train loss: 1.281.. Validation loss: 0.122.. Validiation accuracy: 9.600\n",
      "Epoch 16/30.. Train loss: 1.489.. Validation loss: 0.123.. Validiation accuracy: 9.621\n",
      "Epoch 16/30.. Train loss: 1.657.. Validation loss: 0.125.. Validiation accuracy: 9.623\n",
      "Epoch 16/30.. Train loss: 1.832.. Validation loss: 0.126.. Validiation accuracy: 9.609\n",
      "Epoch 16/30.. Train loss: 2.010.. Validation loss: 0.122.. Validiation accuracy: 9.614\n",
      "Epoch 17/30.. Train loss: 0.190.. Validation loss: 0.128.. Validiation accuracy: 9.601\n",
      "Epoch 17/30.. Train loss: 0.361.. Validation loss: 0.125.. Validiation accuracy: 9.613\n",
      "Epoch 17/30.. Train loss: 0.545.. Validation loss: 0.125.. Validiation accuracy: 9.614\n",
      "Epoch 17/30.. Train loss: 0.728.. Validation loss: 0.125.. Validiation accuracy: 9.617\n",
      "Epoch 17/30.. Train loss: 0.927.. Validation loss: 0.126.. Validiation accuracy: 9.600\n",
      "Epoch 17/30.. Train loss: 1.111.. Validation loss: 0.125.. Validiation accuracy: 9.613\n",
      "Epoch 17/30.. Train loss: 1.286.. Validation loss: 0.122.. Validiation accuracy: 9.618\n",
      "Epoch 17/30.. Train loss: 1.479.. Validation loss: 0.126.. Validiation accuracy: 9.620\n",
      "Epoch 17/30.. Train loss: 1.666.. Validation loss: 0.123.. Validiation accuracy: 9.617\n",
      "Epoch 17/30.. Train loss: 1.852.. Validation loss: 0.122.. Validiation accuracy: 9.617\n",
      "Epoch 17/30.. Train loss: 2.037.. Validation loss: 0.122.. Validiation accuracy: 9.629\n",
      "Epoch 18/30.. Train loss: 0.186.. Validation loss: 0.124.. Validiation accuracy: 9.627\n",
      "Epoch 18/30.. Train loss: 0.355.. Validation loss: 0.122.. Validiation accuracy: 9.619\n",
      "Epoch 18/30.. Train loss: 0.545.. Validation loss: 0.122.. Validiation accuracy: 9.623\n",
      "Epoch 18/30.. Train loss: 0.731.. Validation loss: 0.123.. Validiation accuracy: 9.627\n"
     ]
    },
    {
     "name": "stdout",
     "output_type": "stream",
     "text": [
      "Epoch 18/30.. Train loss: 0.895.. Validation loss: 0.121.. Validiation accuracy: 9.619\n",
      "Epoch 18/30.. Train loss: 1.085.. Validation loss: 0.120.. Validiation accuracy: 9.618\n",
      "Epoch 18/30.. Train loss: 1.249.. Validation loss: 0.125.. Validiation accuracy: 9.619\n",
      "Epoch 18/30.. Train loss: 1.443.. Validation loss: 0.125.. Validiation accuracy: 9.621\n",
      "Epoch 18/30.. Train loss: 1.641.. Validation loss: 0.126.. Validiation accuracy: 9.602\n",
      "Epoch 18/30.. Train loss: 1.840.. Validation loss: 0.128.. Validiation accuracy: 9.602\n",
      "Epoch 18/30.. Train loss: 2.019.. Validation loss: 0.129.. Validiation accuracy: 9.599\n",
      "Epoch 19/30.. Train loss: 0.176.. Validation loss: 0.124.. Validiation accuracy: 9.602\n",
      "Epoch 19/30.. Train loss: 0.354.. Validation loss: 0.125.. Validiation accuracy: 9.628\n",
      "Epoch 19/30.. Train loss: 0.543.. Validation loss: 0.122.. Validiation accuracy: 9.606\n",
      "Epoch 19/30.. Train loss: 0.712.. Validation loss: 0.122.. Validiation accuracy: 9.619\n",
      "Epoch 19/30.. Train loss: 0.882.. Validation loss: 0.122.. Validiation accuracy: 9.606\n",
      "Epoch 19/30.. Train loss: 1.057.. Validation loss: 0.122.. Validiation accuracy: 9.620\n",
      "Epoch 19/30.. Train loss: 1.219.. Validation loss: 0.127.. Validiation accuracy: 9.614\n",
      "Epoch 19/30.. Train loss: 1.407.. Validation loss: 0.124.. Validiation accuracy: 9.604\n",
      "Epoch 19/30.. Train loss: 1.600.. Validation loss: 0.123.. Validiation accuracy: 9.622\n",
      "Epoch 19/30.. Train loss: 1.794.. Validation loss: 0.120.. Validiation accuracy: 9.642\n",
      "Epoch 19/30.. Train loss: 1.976.. Validation loss: 0.120.. Validiation accuracy: 9.617\n",
      "Epoch 20/30.. Train loss: 0.189.. Validation loss: 0.123.. Validiation accuracy: 9.617\n",
      "Epoch 20/30.. Train loss: 0.357.. Validation loss: 0.124.. Validiation accuracy: 9.610\n",
      "Epoch 20/30.. Train loss: 0.530.. Validation loss: 0.125.. Validiation accuracy: 9.602\n",
      "Epoch 20/30.. Train loss: 0.725.. Validation loss: 0.119.. Validiation accuracy: 9.618\n",
      "Epoch 20/30.. Train loss: 0.925.. Validation loss: 0.121.. Validiation accuracy: 9.621\n",
      "Epoch 20/30.. Train loss: 1.108.. Validation loss: 0.127.. Validiation accuracy: 9.605\n",
      "Epoch 20/30.. Train loss: 1.282.. Validation loss: 0.126.. Validiation accuracy: 9.608\n",
      "Epoch 20/30.. Train loss: 1.482.. Validation loss: 0.124.. Validiation accuracy: 9.610\n",
      "Epoch 20/30.. Train loss: 1.676.. Validation loss: 0.126.. Validiation accuracy: 9.614\n",
      "Epoch 20/30.. Train loss: 1.869.. Validation loss: 0.122.. Validiation accuracy: 9.605\n",
      "Epoch 20/30.. Train loss: 2.029.. Validation loss: 0.123.. Validiation accuracy: 9.609\n",
      "Epoch 21/30.. Train loss: 0.188.. Validation loss: 0.126.. Validiation accuracy: 9.613\n",
      "Epoch 21/30.. Train loss: 0.367.. Validation loss: 0.126.. Validiation accuracy: 9.604\n",
      "Epoch 21/30.. Train loss: 0.559.. Validation loss: 0.123.. Validiation accuracy: 9.632\n",
      "Epoch 21/30.. Train loss: 0.742.. Validation loss: 0.120.. Validiation accuracy: 9.643\n",
      "Epoch 21/30.. Train loss: 0.907.. Validation loss: 0.120.. Validiation accuracy: 9.612\n",
      "Epoch 21/30.. Train loss: 1.089.. Validation loss: 0.120.. Validiation accuracy: 9.621\n",
      "Epoch 21/30.. Train loss: 1.257.. Validation loss: 0.123.. Validiation accuracy: 9.635\n",
      "Epoch 21/30.. Train loss: 1.440.. Validation loss: 0.126.. Validiation accuracy: 9.616\n",
      "Epoch 21/30.. Train loss: 1.617.. Validation loss: 0.126.. Validiation accuracy: 9.607\n",
      "Epoch 21/30.. Train loss: 1.799.. Validation loss: 0.128.. Validiation accuracy: 9.584\n",
      "Epoch 21/30.. Train loss: 2.006.. Validation loss: 0.122.. Validiation accuracy: 9.623\n",
      "Epoch 22/30.. Train loss: 0.177.. Validation loss: 0.124.. Validiation accuracy: 9.622\n",
      "Epoch 22/30.. Train loss: 0.357.. Validation loss: 0.123.. Validiation accuracy: 9.609\n",
      "Epoch 22/30.. Train loss: 0.547.. Validation loss: 0.121.. Validiation accuracy: 9.607\n",
      "Epoch 22/30.. Train loss: 0.722.. Validation loss: 0.124.. Validiation accuracy: 9.621\n",
      "Epoch 22/30.. Train loss: 0.901.. Validation loss: 0.122.. Validiation accuracy: 9.626\n",
      "Epoch 22/30.. Train loss: 1.069.. Validation loss: 0.123.. Validiation accuracy: 9.617\n",
      "Epoch 22/30.. Train loss: 1.253.. Validation loss: 0.122.. Validiation accuracy: 9.623\n",
      "Epoch 22/30.. Train loss: 1.420.. Validation loss: 0.125.. Validiation accuracy: 9.607\n",
      "Epoch 22/30.. Train loss: 1.600.. Validation loss: 0.118.. Validiation accuracy: 9.636\n",
      "Epoch 22/30.. Train loss: 1.774.. Validation loss: 0.125.. Validiation accuracy: 9.608\n",
      "Epoch 22/30.. Train loss: 1.951.. Validation loss: 0.122.. Validiation accuracy: 9.621\n",
      "Epoch 23/30.. Train loss: 0.160.. Validation loss: 0.124.. Validiation accuracy: 9.624\n",
      "Epoch 23/30.. Train loss: 0.326.. Validation loss: 0.126.. Validiation accuracy: 9.610\n",
      "Epoch 23/30.. Train loss: 0.486.. Validation loss: 0.126.. Validiation accuracy: 9.611\n",
      "Epoch 23/30.. Train loss: 0.665.. Validation loss: 0.121.. Validiation accuracy: 9.617\n",
      "Epoch 23/30.. Train loss: 0.826.. Validation loss: 0.123.. Validiation accuracy: 9.610\n",
      "Epoch 23/30.. Train loss: 1.006.. Validation loss: 0.122.. Validiation accuracy: 9.628\n",
      "Epoch 23/30.. Train loss: 1.182.. Validation loss: 0.121.. Validiation accuracy: 9.631\n",
      "Epoch 23/30.. Train loss: 1.361.. Validation loss: 0.123.. Validiation accuracy: 9.620\n",
      "Epoch 23/30.. Train loss: 1.527.. Validation loss: 0.123.. Validiation accuracy: 9.625\n",
      "Epoch 23/30.. Train loss: 1.709.. Validation loss: 0.122.. Validiation accuracy: 9.634\n",
      "Epoch 23/30.. Train loss: 1.885.. Validation loss: 0.122.. Validiation accuracy: 9.627\n",
      "Epoch 24/30.. Train loss: 0.160.. Validation loss: 0.127.. Validiation accuracy: 9.608\n",
      "Epoch 24/30.. Train loss: 0.335.. Validation loss: 0.123.. Validiation accuracy: 9.625\n",
      "Epoch 24/30.. Train loss: 0.513.. Validation loss: 0.120.. Validiation accuracy: 9.639\n",
      "Epoch 24/30.. Train loss: 0.693.. Validation loss: 0.124.. Validiation accuracy: 9.623\n",
      "Epoch 24/30.. Train loss: 0.846.. Validation loss: 0.122.. Validiation accuracy: 9.641\n",
      "Epoch 24/30.. Train loss: 1.017.. Validation loss: 0.125.. Validiation accuracy: 9.596\n",
      "Epoch 24/30.. Train loss: 1.217.. Validation loss: 0.124.. Validiation accuracy: 9.623\n",
      "Epoch 24/30.. Train loss: 1.404.. Validation loss: 0.123.. Validiation accuracy: 9.631\n",
      "Epoch 24/30.. Train loss: 1.588.. Validation loss: 0.124.. Validiation accuracy: 9.617\n",
      "Epoch 24/30.. Train loss: 1.772.. Validation loss: 0.123.. Validiation accuracy: 9.623\n",
      "Epoch 24/30.. Train loss: 1.955.. Validation loss: 0.121.. Validiation accuracy: 9.630\n",
      "Epoch 25/30.. Train loss: 0.191.. Validation loss: 0.126.. Validiation accuracy: 9.609\n",
      "Epoch 25/30.. Train loss: 0.377.. Validation loss: 0.125.. Validiation accuracy: 9.617\n",
      "Epoch 25/30.. Train loss: 0.552.. Validation loss: 0.127.. Validiation accuracy: 9.607\n",
      "Epoch 25/30.. Train loss: 0.743.. Validation loss: 0.128.. Validiation accuracy: 9.610\n",
      "Epoch 25/30.. Train loss: 0.916.. Validation loss: 0.122.. Validiation accuracy: 9.608\n",
      "Epoch 25/30.. Train loss: 1.080.. Validation loss: 0.121.. Validiation accuracy: 9.607\n",
      "Epoch 25/30.. Train loss: 1.263.. Validation loss: 0.122.. Validiation accuracy: 9.633\n",
      "Epoch 25/30.. Train loss: 1.427.. Validation loss: 0.119.. Validiation accuracy: 9.620\n",
      "Epoch 25/30.. Train loss: 1.607.. Validation loss: 0.125.. Validiation accuracy: 9.622\n",
      "Epoch 25/30.. Train loss: 1.783.. Validation loss: 0.123.. Validiation accuracy: 9.618\n",
      "Epoch 25/30.. Train loss: 1.959.. Validation loss: 0.125.. Validiation accuracy: 9.611\n",
      "Epoch 26/30.. Train loss: 0.159.. Validation loss: 0.124.. Validiation accuracy: 9.602\n",
      "Epoch 26/30.. Train loss: 0.321.. Validation loss: 0.124.. Validiation accuracy: 9.636\n",
      "Epoch 26/30.. Train loss: 0.496.. Validation loss: 0.125.. Validiation accuracy: 9.613\n",
      "Epoch 26/30.. Train loss: 0.666.. Validation loss: 0.125.. Validiation accuracy: 9.617\n",
      "Epoch 26/30.. Train loss: 0.844.. Validation loss: 0.122.. Validiation accuracy: 9.624\n",
      "Epoch 26/30.. Train loss: 1.004.. Validation loss: 0.119.. Validiation accuracy: 9.634\n",
      "Epoch 26/30.. Train loss: 1.178.. Validation loss: 0.126.. Validiation accuracy: 9.612\n",
      "Epoch 26/30.. Train loss: 1.361.. Validation loss: 0.124.. Validiation accuracy: 9.617\n",
      "Epoch 26/30.. Train loss: 1.525.. Validation loss: 0.124.. Validiation accuracy: 9.626\n",
      "Epoch 26/30.. Train loss: 1.708.. Validation loss: 0.121.. Validiation accuracy: 9.616\n",
      "Epoch 26/30.. Train loss: 1.895.. Validation loss: 0.122.. Validiation accuracy: 9.618\n"
     ]
    },
    {
     "name": "stdout",
     "output_type": "stream",
     "text": [
      "Epoch 27/30.. Train loss: 0.162.. Validation loss: 0.120.. Validiation accuracy: 9.624\n",
      "Epoch 27/30.. Train loss: 0.332.. Validation loss: 0.125.. Validiation accuracy: 9.608\n",
      "Epoch 27/30.. Train loss: 0.510.. Validation loss: 0.120.. Validiation accuracy: 9.617\n",
      "Epoch 27/30.. Train loss: 0.676.. Validation loss: 0.123.. Validiation accuracy: 9.619\n",
      "Epoch 27/30.. Train loss: 0.831.. Validation loss: 0.123.. Validiation accuracy: 9.624\n",
      "Epoch 27/30.. Train loss: 0.999.. Validation loss: 0.120.. Validiation accuracy: 9.633\n",
      "Epoch 27/30.. Train loss: 1.169.. Validation loss: 0.121.. Validiation accuracy: 9.636\n",
      "Epoch 27/30.. Train loss: 1.339.. Validation loss: 0.121.. Validiation accuracy: 9.623\n",
      "Epoch 27/30.. Train loss: 1.511.. Validation loss: 0.120.. Validiation accuracy: 9.625\n",
      "Epoch 27/30.. Train loss: 1.693.. Validation loss: 0.121.. Validiation accuracy: 9.613\n",
      "Epoch 27/30.. Train loss: 1.862.. Validation loss: 0.120.. Validiation accuracy: 9.623\n",
      "Epoch 28/30.. Train loss: 0.157.. Validation loss: 0.125.. Validiation accuracy: 9.608\n",
      "Epoch 28/30.. Train loss: 0.332.. Validation loss: 0.120.. Validiation accuracy: 9.613\n",
      "Epoch 28/30.. Train loss: 0.517.. Validation loss: 0.122.. Validiation accuracy: 9.624\n",
      "Epoch 28/30.. Train loss: 0.686.. Validation loss: 0.122.. Validiation accuracy: 9.626\n",
      "Epoch 28/30.. Train loss: 0.873.. Validation loss: 0.124.. Validiation accuracy: 9.618\n",
      "Epoch 28/30.. Train loss: 1.035.. Validation loss: 0.122.. Validiation accuracy: 9.621\n",
      "Epoch 28/30.. Train loss: 1.197.. Validation loss: 0.120.. Validiation accuracy: 9.638\n",
      "Epoch 28/30.. Train loss: 1.373.. Validation loss: 0.125.. Validiation accuracy: 9.621\n",
      "Epoch 28/30.. Train loss: 1.552.. Validation loss: 0.122.. Validiation accuracy: 9.630\n",
      "Epoch 28/30.. Train loss: 1.721.. Validation loss: 0.122.. Validiation accuracy: 9.619\n",
      "Epoch 28/30.. Train loss: 1.896.. Validation loss: 0.125.. Validiation accuracy: 9.623\n",
      "Epoch 29/30.. Train loss: 0.173.. Validation loss: 0.121.. Validiation accuracy: 9.627\n",
      "Epoch 29/30.. Train loss: 0.344.. Validation loss: 0.122.. Validiation accuracy: 9.628\n",
      "Epoch 29/30.. Train loss: 0.508.. Validation loss: 0.125.. Validiation accuracy: 9.622\n",
      "Epoch 29/30.. Train loss: 0.689.. Validation loss: 0.126.. Validiation accuracy: 9.605\n",
      "Epoch 29/30.. Train loss: 0.860.. Validation loss: 0.123.. Validiation accuracy: 9.617\n",
      "Epoch 29/30.. Train loss: 1.036.. Validation loss: 0.125.. Validiation accuracy: 9.614\n",
      "Epoch 29/30.. Train loss: 1.210.. Validation loss: 0.126.. Validiation accuracy: 9.614\n",
      "Epoch 29/30.. Train loss: 1.386.. Validation loss: 0.123.. Validiation accuracy: 9.622\n",
      "Epoch 29/30.. Train loss: 1.553.. Validation loss: 0.125.. Validiation accuracy: 9.623\n",
      "Epoch 29/30.. Train loss: 1.741.. Validation loss: 0.117.. Validiation accuracy: 9.638\n",
      "Epoch 29/30.. Train loss: 1.906.. Validation loss: 0.125.. Validiation accuracy: 9.609\n",
      "Epoch 30/30.. Train loss: 0.149.. Validation loss: 0.121.. Validiation accuracy: 9.617\n",
      "Epoch 30/30.. Train loss: 0.330.. Validation loss: 0.123.. Validiation accuracy: 9.630\n",
      "Epoch 30/30.. Train loss: 0.490.. Validation loss: 0.120.. Validiation accuracy: 9.633\n",
      "Epoch 30/30.. Train loss: 0.659.. Validation loss: 0.124.. Validiation accuracy: 9.614\n",
      "Epoch 30/30.. Train loss: 0.838.. Validation loss: 0.121.. Validiation accuracy: 9.625\n",
      "Epoch 30/30.. Train loss: 1.001.. Validation loss: 0.127.. Validiation accuracy: 9.620\n",
      "Epoch 30/30.. Train loss: 1.178.. Validation loss: 0.124.. Validiation accuracy: 9.625\n",
      "Epoch 30/30.. Train loss: 1.342.. Validation loss: 0.118.. Validiation accuracy: 9.641\n",
      "Epoch 30/30.. Train loss: 1.515.. Validation loss: 0.119.. Validiation accuracy: 9.632\n",
      "Epoch 30/30.. Train loss: 1.689.. Validation loss: 0.122.. Validiation accuracy: 9.615\n",
      "Epoch 30/30.. Train loss: 1.868.. Validation loss: 0.125.. Validiation accuracy: 9.608\n"
     ]
    }
   ],
   "source": [
    "## YOUR CODE HERE ##\n",
    "optimizer = optim.Adam(model.parameters(), lr=0.0005)\n",
    "\n",
    "\n",
    "device = torch.device(\"cuda\" if torch.cuda.is_available() else \"cpu\")\n",
    "model.to(device);\n",
    "epochs = 30\n",
    "print_every = 64\n",
    "train_losses = []\n",
    "valid_losses = []\n",
    "valid_accuracies = []\n",
    "for e in range(epochs):\n",
    "    steps = 0\n",
    "    running_loss = 0\n",
    "    for images, labels in train_loader:\n",
    "        steps +=1\n",
    "        images, labels = images.to(device), labels.to(device)\n",
    "        optimizer.zero_grad()\n",
    "        \n",
    "        train_log_ps = model(images)\n",
    "        loss = criterion(train_log_ps, labels)\n",
    "        loss.backward()\n",
    "        optimizer.step()\n",
    "        running_loss += loss.item()\n",
    "\n",
    "        if steps % print_every == 0:\n",
    "            model.eval()\n",
    "            valid_loss = 0\n",
    "            valid_accuracy = 0\n",
    "            # Turn off gradients for validation, saves memory and computations\n",
    "            with torch.no_grad():\n",
    "                for images_valid, labels_valid in valid_loader:\n",
    "                    images_valid, labels_valid = images_valid.to(device), labels_valid.to(device)\n",
    "                    log_ps = model(images_valid)\n",
    "                    batch_loss = criterion(log_ps, labels_valid)\n",
    "                    valid_loss += batch_loss.item()\n",
    "                    ps = torch.exp(log_ps)\n",
    "                    top_p, top_class = ps.topk(1)\n",
    "                    equals =( top_class == labels_valid.view(*top_class.shape))\n",
    "                    valid_accuracy += (equals.type(torch.FloatTensor)).sum().item()\n",
    "\n",
    "            print(f\"Epoch {e+1}/{epochs}.. \"\n",
    "              f\"Train loss: {running_loss/print_every:.3f}.. \"\n",
    "              f\"Validation loss: {valid_loss/len(valid_loader):.3f}.. \"\n",
    "              f\"Validiation accuracy: {valid_accuracy/len(valid_loader)/100:.3f}\")\n",
    "            train_losses.append(running_loss/print_every)\n",
    "            valid_losses.append(valid_loss/len(valid_loader))\n",
    "            valid_accuracies.append(valid_accuracy/len(valid_loader)/100)\n",
    "        model.train()"
   ]
  },
  {
   "cell_type": "code",
   "execution_count": 11,
   "metadata": {},
   "outputs": [
    {
     "name": "stdout",
     "output_type": "stream",
     "text": [
      "Test loss: 0.123.. Test accuracy: 9.650\n"
     ]
    }
   ],
   "source": [
    "test_loss = 0\n",
    "accuracy = 0\n",
    "model.eval()\n",
    "with torch.no_grad():\n",
    "    for images_test, labels_test in test_loader:\n",
    "        images_test, labels_test = images_test.to(device), labels_test.to(device)\n",
    "        log_ps = model(images_test)\n",
    "        batch_loss = criterion(log_ps, labels_test)\n",
    "        test_loss += batch_loss.item()\n",
    "        ps = torch.exp(log_ps)\n",
    "        top_p, top_class = ps.topk(1)\n",
    "        equals =( top_class == (labels_test.view(*top_class.shape)))\n",
    "        accuracy += (equals.type(torch.FloatTensor)).sum().item()\n",
    "print(f\"Test loss: {test_loss/len(test_loader):.3f}.. \"\n",
    "      f\"Test accuracy: {accuracy/len(test_loader)/100:.3f}\")"
   ]
  },
  {
   "cell_type": "markdown",
   "metadata": {},
   "source": [
    "## Saving your model\n",
    "Using `torch.save`, save your model for future loading."
   ]
  },
  {
   "cell_type": "code",
   "execution_count": 12,
   "metadata": {},
   "outputs": [],
   "source": [
    "## YOUR CODE HERE ##\n",
    "checkpoint = {'model': 'nn.Sequential(nn.Flatten(),nn.Linear(28*28, 128),nn.ReLU(),nn.Dropout(0.5),nn.Linear(128, 10),nn.LogSoftmax(dim=1))',\n",
    "              'input_size': 28*28,\n",
    "              'output_size': 10,\n",
    "              'state_dict': model.state_dict()}\n",
    "\n",
    "torch.save(checkpoint, 'checkpoint.pth')"
   ]
  },
  {
   "cell_type": "code",
   "execution_count": null,
   "metadata": {},
   "outputs": [],
   "source": []
  }
 ],
 "metadata": {
  "kernelspec": {
   "display_name": "Python 3",
   "language": "python",
   "name": "python3"
  },
  "language_info": {
   "codemirror_mode": {
    "name": "ipython",
    "version": 3
   },
   "file_extension": ".py",
   "mimetype": "text/x-python",
   "name": "python",
   "nbconvert_exporter": "python",
   "pygments_lexer": "ipython3",
   "version": "3.7.6"
  }
 },
 "nbformat": 4,
 "nbformat_minor": 4
}
